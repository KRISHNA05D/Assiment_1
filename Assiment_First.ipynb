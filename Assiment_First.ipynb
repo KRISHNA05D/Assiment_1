{
 "cells": [
  {
   "cell_type": "markdown",
   "id": "01f7d4a7-7b75-485f-a0a5-df312ab8d059",
   "metadata": {},
   "source": [
    "# Question:-1\n",
    "Explain with an example each when to use a for loop and a while loop."
   ]
  },
  {
   "cell_type": "raw",
   "id": "3c0382cd-94a4-4a77-8c40-01e6e74a5496",
   "metadata": {},
   "source": [
    "Answer of Question on 1"
   ]
  },
  {
   "cell_type": "code",
   "execution_count": 3,
   "id": "5396fc74-0cb2-4f29-8d8d-1668d2480317",
   "metadata": {},
   "outputs": [
    {
     "name": "stdout",
     "output_type": "stream",
     "text": [
      "634\n"
     ]
    }
   ],
   "source": [
    "\"\"\" First we take an example of For loop\"\"\"\n",
    "# Example - Calculate the  sum of elements in a list.\n",
    "l=[12,3,4,35,545,33,2]\n",
    "Sum =0\n",
    "for i in l:\n",
    "    Sum +=i\n",
    "print(Sum)"
   ]
  },
  {
   "cell_type": "code",
   "execution_count": 5,
   "id": "063f5545-e4a9-4719-858c-c5cf9b118d2c",
   "metadata": {},
   "outputs": [
    {
     "name": "stdin",
     "output_type": "stream",
     "text": [
      "Enter 'Exit' to exit from Loop : Krishna\n"
     ]
    },
    {
     "name": "stdout",
     "output_type": "stream",
     "text": [
      "Your imput is :Krishna\n"
     ]
    },
    {
     "name": "stdin",
     "output_type": "stream",
     "text": [
      "Enter 'Exit' to exit from Loop : Exit\n"
     ]
    },
    {
     "name": "stdout",
     "output_type": "stream",
     "text": [
      "Your imput is :Exit\n"
     ]
    }
   ],
   "source": [
    "\"\"\" Next we take an example of While loop\"\"\"\n",
    "# Example -  Asking the user for input until a condition is met.\n",
    "User_Input=''\n",
    "while User_Input!='Exit':\n",
    "    User_Input=input(\"Enter 'Exit' to exit from Loop :\")\n",
    "    print('Your imput is :'+User_Input)"
   ]
  },
  {
   "cell_type": "markdown",
   "id": "abc7391c-5947-4201-ac3c-a5d2f9a551ad",
   "metadata": {},
   "source": [
    "# Question :-  2\n",
    " Write a python program to print the sum and product of the first 10 natural numbers using for\n",
    "and while loop."
   ]
  },
  {
   "cell_type": "raw",
   "id": "968508cf-b31c-400f-bf4b-55e0f4226efa",
   "metadata": {},
   "source": [
    "Answer of Question no 2"
   ]
  },
  {
   "cell_type": "code",
   "execution_count": 18,
   "id": "37774f44-629e-49ba-8e9c-6671e13f7532",
   "metadata": {},
   "outputs": [
    {
     "name": "stdout",
     "output_type": "stream",
     "text": [
      "Sum of First 10 natural Number is : 55\n",
      "Productof First 10 natural Number is : 3628800\n"
     ]
    }
   ],
   "source": [
    "\"\"\" First we creat program of Sum and Product With use of For loop \"\"\"\n",
    "\n",
    "# Using for loop to calculate sum and product of first 10 natural numbers\n",
    "r=range(1,11)\n",
    "Sum=0\n",
    "Product=1\n",
    "for i in r:\n",
    "    Sum+=i\n",
    "    Product*=i\n",
    "print(\"Sum of First 10 natural Number is :\",Sum)\n",
    "print(\"Productof First 10 natural Number is :\",Product)"
   ]
  },
  {
   "cell_type": "code",
   "execution_count": 3,
   "id": "39a03f13-4299-4e7f-a52e-2e64545494af",
   "metadata": {},
   "outputs": [
    {
     "name": "stdout",
     "output_type": "stream",
     "text": [
      "Sum of First 10 natural Number is : 55\n",
      "Productof First 10 natural Number is : 3628800\n"
     ]
    }
   ],
   "source": [
    "# Using while loop to calculate sum and product of first 10 natural numbers\n",
    "num=1\n",
    "Sum=0\n",
    "Product=1\n",
    "while num<11:\n",
    "    Sum +=num\n",
    "    Product *=num\n",
    "    num+=1\n",
    "print(\"Sum of First 10 natural Number is :\",Sum)\n",
    "print(\"Productof First 10 natural Number is :\",Product)"
   ]
  },
  {
   "cell_type": "markdown",
   "id": "c0406f58-b3ec-4f32-819d-9d0b2b2596d4",
   "metadata": {},
   "source": [
    "# Question :- 3\n",
    "Create a python program to compute the electricity bill for a household.\n",
    "The per-unit charges in rupees are as follows: For the first 100 units, the user will be charged Rs. 4.5 per\n",
    "unit, for the next 100 units, the user will be charged Rs. 6 per unit, and for the next 100 units, the user will\n",
    "be charged Rs. 10 per unit, After 300 units and above the user will be charged Rs. 20 per unit.\n",
    "\n",
    "\n",
    "You are required to take the units of electricity consumed in a month from the user as input.\n",
    "\n",
    "\n",
    "Your program must pass this test case: when the unit of electricity consumed by the user in a month is\n",
    "310, the total electricity bill should be 2250."
   ]
  },
  {
   "cell_type": "code",
   "execution_count": 10,
   "id": "d0304a71-d97e-4c1e-8011-00b8e87152b4",
   "metadata": {},
   "outputs": [
    {
     "name": "stdin",
     "output_type": "stream",
     "text": [
      "Enter the unit's which you consumed in last month 310\n"
     ]
    },
    {
     "name": "stdout",
     "output_type": "stream",
     "text": [
      "The total bill is : 2250.0\n"
     ]
    }
   ],
   "source": [
    "Used = int(input(\"Enter the unit's which you consumed in last month\"))\n",
    "bill=0 \n",
    "Remaining=Used\n",
    "# It is for First 100 Unit's\n",
    "if Remaining<=100:\n",
    "    bill+=Remaining*4.5\n",
    "    Remaining=0\n",
    "else:\n",
    "    bill+=100*4.5\n",
    "    Remaining-=100\n",
    "# It is for next 100 Unit's\n",
    "if Remaining<=100:\n",
    "    bill+=Remaining *6.00\n",
    "    Remaining=0\n",
    "else:\n",
    "    bill+=100*6.00\n",
    "    Remaining-=100\n",
    "# It is for next 100 unit's\n",
    "if Remaining<=100:\n",
    "    bill+=Remaining*10.00\n",
    "    Remaining=0\n",
    "else:\n",
    "    bill+=100*10.00\n",
    "    Remaining-=100\n",
    "# It is For unit is over 300\n",
    "bill+=Remaining*20.00\n",
    "print(\"The total bill is :\",bill)"
   ]
  },
  {
   "cell_type": "markdown",
   "id": "53093a0b-6644-4b77-a3f0-7d5a65091dde",
   "metadata": {},
   "source": [
    "# Question :- 4\n",
    "\n",
    " Create a list of numbers from 1 to 100. Use for loop and while loop to calculate the cube of each\n",
    "number and if the cube of that number is divisible by 4 or 5 then append that number in a list and print\n",
    "that list"
   ]
  },
  {
   "cell_type": "code",
   "execution_count": 4,
   "id": "f2c19eb9-aeeb-4e69-bcb4-d112f4ac60d2",
   "metadata": {},
   "outputs": [
    {
     "name": "stdout",
     "output_type": "stream",
     "text": [
      "Numbers whose cubes are divisible by 4 or 5:\n",
      " [8, 64, 125, 216, 512, 1000, 1728, 2744, 3375, 4096, 5832, 8000, 10648, 13824, 15625, 17576, 21952, 27000, 32768, 39304, 42875, 46656, 54872, 64000, 74088, 85184, 91125, 97336, 110592, 125000, 140608, 157464, 166375, 175616, 195112, 216000, 238328, 262144, 274625, 287496, 314432, 343000, 373248, 405224, 421875, 438976, 474552, 512000, 551368, 592704, 614125, 636056, 681472, 729000, 778688, 830584, 857375, 884736, 941192, 1000000]\n"
     ]
    }
   ],
   "source": [
    "# It is Calculate use of for loop\n",
    "l=[]\n",
    "for i in range(1,101):\n",
    "    cube=i**3\n",
    "    if cube%4==0 or cube%5==0:\n",
    "        l.append(i**3)\n",
    "print(\"Numbers whose cubes are divisible by 4 or 5:\\n\",l)"
   ]
  },
  {
   "cell_type": "code",
   "execution_count": 3,
   "id": "3255664b-0205-4488-a7a8-ac4b2a019e7d",
   "metadata": {},
   "outputs": [
    {
     "name": "stdout",
     "output_type": "stream",
     "text": [
      "Numbers whose cubes are divisible by 4 or 5:\n",
      " [8, 64, 125, 216, 512, 1000, 1728, 2744, 3375, 4096, 5832, 8000, 10648, 13824, 15625, 17576, 21952, 27000, 32768, 39304, 42875, 46656, 54872, 64000, 74088, 85184, 91125, 97336, 110592, 125000, 140608, 157464, 166375, 175616, 195112, 216000, 238328, 262144, 274625, 287496, 314432, 343000, 373248, 405224, 421875, 438976, 474552, 512000, 551368, 592704, 614125, 636056, 681472, 729000, 778688, 830584, 857375, 884736, 941192, 1000000]\n"
     ]
    }
   ],
   "source": [
    "# Create an empty list to store numbers whose cubes are divisible by 4 or 5 by use of while\n",
    "result_list = []\n",
    "num = 1\n",
    "while num <= 100:\n",
    "    cube = num ** 3\n",
    "    if cube % 4 == 0 or cube % 5 == 0:\n",
    "        result_list.append(num**3)\n",
    "    num += 1\n",
    "print(\"Numbers whose cubes are divisible by 4 or 5:\\n\", result_list)\n"
   ]
  },
  {
   "cell_type": "markdown",
   "id": "75d0d6d1-9cdb-4148-8088-beb7e03a328f",
   "metadata": {},
   "source": [
    "# Question :- 5\n",
    " Write a program to filter count vowels in the below-given string.\n",
    "string = \"I want to become a data scientist\""
   ]
  },
  {
   "cell_type": "code",
   "execution_count": 5,
   "id": "717a99d7-9c96-4b0b-9488-7124a6526581",
   "metadata": {},
   "outputs": [
    {
     "name": "stdout",
     "output_type": "stream",
     "text": [
      "The total number of Vowles Count :  12\n"
     ]
    }
   ],
   "source": [
    "String = \"I want to become a data scientist\"\n",
    "Vowels = \"aeiouAEIOU\"\n",
    "Vowels_Count = 0\n",
    "for i in String:\n",
    "    if i in Vowels:\n",
    "        Vowels_Count+=1\n",
    "print(\"The total number of Vowles Count : \",Vowels_Count)"
   ]
  },
  {
   "cell_type": "code",
   "execution_count": null,
   "id": "b7df3b8f-2cfb-41cf-b638-4988f694ee43",
   "metadata": {},
   "outputs": [],
   "source": []
  }
 ],
 "metadata": {
  "kernelspec": {
   "display_name": "Python 3 (ipykernel)",
   "language": "python",
   "name": "python3"
  },
  "language_info": {
   "codemirror_mode": {
    "name": "ipython",
    "version": 3
   },
   "file_extension": ".py",
   "mimetype": "text/x-python",
   "name": "python",
   "nbconvert_exporter": "python",
   "pygments_lexer": "ipython3",
   "version": "3.10.8"
  }
 },
 "nbformat": 4,
 "nbformat_minor": 5
}
